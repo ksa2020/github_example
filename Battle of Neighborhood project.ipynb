{
 "cells": [
  {
   "cell_type": "markdown",
   "metadata": {},
   "source": [
    "## Research Scientist Visit-Battle of Neighborhood  week 4 project"
   ]
  },
  {
   "cell_type": "markdown",
   "metadata": {},
   "source": [
    "## Description of problem"
   ]
  },
  {
   "cell_type": "markdown",
   "metadata": {},
   "source": [
    "### Get you there Inc, is a Toronto based company specialized in event planning and recreation activities. The company in 2020 is preparing to host a 5 day event for over 200 Research Scientists from the neighbor country, USA and it is incumbent on the company to provide landscape details about hotels, restaurants, gas stations, cafes and other places of interests around Toronto. This company shall provide a map and a complete list of all available places of interest for the visiting scientists. The provision of detailed landscape information shall tremendously help scientists to navigate the hustle and bustle conditions in the city of Toronto, CA"
   ]
  },
  {
   "cell_type": "markdown",
   "metadata": {},
   "source": [
    "### Data Description"
   ]
  },
  {
   "cell_type": "markdown",
   "metadata": {},
   "source": [
    "#### The data to be used for this project shall be provided using Foursquare Location Data and these data shall be grouped further to include information on restaurants, gas stations schools, cafes, hotels, and stores in this neighborhood."
   ]
  },
  {
   "cell_type": "code",
   "execution_count": null,
   "metadata": {},
   "outputs": [],
   "source": []
  }
 ],
 "metadata": {
  "kernelspec": {
   "display_name": "Python",
   "language": "python",
   "name": "conda-env-python-py"
  },
  "language_info": {
   "codemirror_mode": {
    "name": "ipython",
    "version": 3
   },
   "file_extension": ".py",
   "mimetype": "text/x-python",
   "name": "python",
   "nbconvert_exporter": "python",
   "pygments_lexer": "ipython3",
   "version": "3.6.7"
  }
 },
 "nbformat": 4,
 "nbformat_minor": 4
}

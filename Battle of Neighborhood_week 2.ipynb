{
 "cells": [
  {
   "cell_type": "markdown",
   "metadata": {},
   "source": [
    "# Battle of Neighborhood Week 2"
   ]
  },
  {
   "cell_type": "markdown",
   "metadata": {},
   "source": [
    "# Objective"
   ]
  },
  {
   "cell_type": "markdown",
   "metadata": {},
   "source": [
    "### To provide location of places of interest within the city of Toronto to alleviate problems that may face Visiting Research Scientists from USA."
   ]
  },
  {
   "cell_type": "markdown",
   "metadata": {},
   "source": [
    "# Problem Statement"
   ]
  },
  {
   "cell_type": "markdown",
   "metadata": {},
   "source": [
    "## Visiting Research Scientist from USA faces a difficult task in navigating and locating places of interest and finding hotels proximal to the Toronto Convention Center, Venue for the 2020 Data Mining and Data Analysis Conference. Toronto, being a huge city poses problems for first timer especially in finding ways around the city, locating places of interest such as hotels, subways, cafes, restaurants, and so forth. However, with the help of Get Me There, Inc, there is the  possibility of making the adventure more pleasant for the visiting scientists."
   ]
  },
  {
   "cell_type": "markdown",
   "metadata": {},
   "source": [
    "# Resolution "
   ]
  },
  {
   "cell_type": "markdown",
   "metadata": {},
   "source": [
    "## Making API calls to Foursquare API to locate key areas of interest like cafes, restaurants, hotels, Bus Stops, Subways, street names, visiting scientists shall be equipped with tools and be well informed on what places are proximal to the Convention center. This map that the planning and organizing company shall be provided would be of a priceless value to the Scientists, especially first timers in such a huge city."
   ]
  },
  {
   "cell_type": "markdown",
   "metadata": {},
   "source": [
    "# Target Audience"
   ]
  },
  {
   "cell_type": "markdown",
   "metadata": {},
   "source": [
    "#### Visiting Scientists to the 2020 Data Mining and Data Analysis Conference\n",
    "#### Staffers of Get Me There Inc\n",
    " #### Conference Organizers\n",
    " #### Taxi Cab Drivers\n"
   ]
  },
  {
   "cell_type": "markdown",
   "metadata": {},
   "source": [
    "# Data Source"
   ]
  },
  {
   "cell_type": "markdown",
   "metadata": {},
   "source": [
    "#### The data to be used for this project shall be provided using Foursquare Location Data and these data shall be grouped further to include information on restaurants, gas stations schools, cafes, hotels, and stores in this neighborhood."
   ]
  },
  {
   "cell_type": "code",
   "execution_count": null,
   "metadata": {},
   "outputs": [],
   "source": []
  }
 ],
 "metadata": {
  "kernelspec": {
   "display_name": "Python",
   "language": "python",
   "name": "conda-env-python-py"
  },
  "language_info": {
   "codemirror_mode": {
    "name": "ipython",
    "version": 3
   },
   "file_extension": ".py",
   "mimetype": "text/x-python",
   "name": "python",
   "nbconvert_exporter": "python",
   "pygments_lexer": "ipython3",
   "version": "3.6.7"
  }
 },
 "nbformat": 4,
 "nbformat_minor": 4
}
